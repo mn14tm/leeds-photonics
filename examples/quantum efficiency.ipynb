{
 "cells": [
  {
   "cell_type": "markdown",
   "metadata": {},
   "source": [
    "# Method Outline\n",
    "We analyse the spontaneous emission (SE) rate of the EDTS layer in air and covered with water, denoted $1$ and $2$, respectively. Observing that that the SE rates calculated from PL measurements, $\\Gamma^{1, 2} \\equiv 1/\\tau^{1,2}$, are composed of radiative, $\\Gamma_{rad}$, and non-radiative, $\\Gamma_{nrad}$, components gives\n",
    "\n",
    "$$\n",
    "\\begin{align}\n",
    "\\Gamma^1 &= \\Gamma^1_{rad} + \\Gamma^1_{nrad} \\,,\\\\\n",
    "\\Gamma^2 &= \\Gamma^2_{rad} + \\Gamma^2_{nrad} \\approx \\beta^2_1\\Gamma^1_{rad} + \\Gamma^1_{nrad}\n",
    "\\end{align}\n",
    "$$\n",
    "\n",
    "where $\\beta^2_1 = \\Gamma^2_{rad}/\\Gamma^1_{rad}$ is the theoretical radiative decay rate ratio and $\\Gamma^1_{nrad} \\approx \\Gamma^2_{nrad}$ is assumed. The latter is justified as the non-radiative recombination processes in SiO$_2$ are due to short-range Forster energy transfer between the Er$^{3+}$ transition and the resonant hydroxyl groups, which are therefore not dependent on the external surrounding environment of the EDTS layer.\n",
    "\n",
    "Rewritten in matrix form this gives:\n",
    "\n",
    "$$\n",
    "\\begin{bmatrix}\n",
    "    \\Gamma^1 \\\\\n",
    "    \\Gamma^2 \\\\\n",
    "\\end{bmatrix}\n",
    "=\n",
    "\\begin{bmatrix}\n",
    "            1 & 1\\\\\n",
    "    \\beta^2_a & 1 \\\\\n",
    "\\end{bmatrix}\n",
    "\\begin{bmatrix}\n",
    "    \\Gamma^1_{rad} \\\\\n",
    "    \\Gamma^1_{nrad} \\\\\n",
    "\\end{bmatrix} \\,.\n",
    "$$\n",
    "\n",
    "The unknown radiative and non-radiative decay rates (in air) are therefore evaluated by solving\n",
    "\n",
    "$$\\begin{bmatrix}\n",
    "    \\Gamma^1_{rad} \\\\\n",
    "    \\Gamma^1_{nrad} \\\\\n",
    "\\end{bmatrix}\n",
    "=\n",
    "\\begin{bmatrix}\n",
    "            1 & 1\\\\\n",
    "    \\beta^2_a & 1 \\\\\n",
    "\\end{bmatrix}^{-1}\n",
    "\\begin{bmatrix}\n",
    "    \\Gamma^1 \\\\\n",
    "    \\Gamma^2 \\\\\n",
    "\\end{bmatrix}\n",
    "$$\n",
    "\n",
    "The Quantum efficiency (q) is given by\n",
    "\n",
    "$$\n",
    "\\begin{equation}\n",
    "q^x = \\frac{\\Gamma^x_{rad}}{\\Gamma^x_{rad} + \\Gamma_{nrad}} \\left(= \\frac{\\tau^x_{mes}}{\\tau^x_{rad}}\\right) \\,,\n",
    "\\end{equation}\n",
    "$$\n",
    "\n",
    "and is therefore dependent on the medium ($x=a,w$) surrounding the EDTS layer."
   ]
  },
  {
   "cell_type": "code",
   "execution_count": 4,
   "metadata": {
    "collapsed": true
   },
   "outputs": [],
   "source": [
    "from photonics.misc import quantum_efficiency"
   ]
  },
  {
   "cell_type": "code",
   "execution_count": 18,
   "metadata": {
    "collapsed": false
   },
   "outputs": [
    {
     "name": "stdout",
     "output_type": "stream",
     "text": [
      "Radiative decay rate    : -9.50 /s\n",
      "Non-radiative decay rate: 91.46 /s \n",
      "\n",
      "Radiative lifetime      : -105.304 ms\n",
      "Non-radiative lifetime  : 10.933 ms\n",
      "Quantum Efficiency is -11.586%\n"
     ]
    }
   ],
   "source": [
    "# Waveguiding modes included\n",
    "quantum_efficiency(12.200e-3, 12.082e-3, 0.9157)"
   ]
  },
  {
   "cell_type": "code",
   "execution_count": 17,
   "metadata": {
    "collapsed": false
   },
   "outputs": [
    {
     "name": "stdout",
     "output_type": "stream",
     "text": [
      "Radiative decay rate    : 1.28 /s\n",
      "Non-radiative decay rate: 80.68 /s \n",
      "\n",
      "Radiative lifetime      : 778.432 ms\n",
      "Non-radiative lifetime  : 12.394 ms\n",
      "Quantum Efficiency is 1.567%\n"
     ]
    }
   ],
   "source": [
    "# No Waveguiding\n",
    "quantum_efficiency(tau1=12.200e-3, tau2=12.082e-3, beta21=1.623166626)"
   ]
  }
 ],
 "metadata": {
  "kernelspec": {
   "display_name": "Python [conda root]",
   "language": "python",
   "name": "conda-root-py"
  },
  "language_info": {
   "codemirror_mode": {
    "name": "ipython",
    "version": 3
   },
   "file_extension": ".py",
   "mimetype": "text/x-python",
   "name": "python",
   "nbconvert_exporter": "python",
   "pygments_lexer": "ipython3",
   "version": "3.5.3"
  }
 },
 "nbformat": 4,
 "nbformat_minor": 2
}
